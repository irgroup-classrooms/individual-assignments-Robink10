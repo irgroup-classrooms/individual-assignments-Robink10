{
 "cells": [
  {
   "cell_type": "code",
   "execution_count": 14,
   "metadata": {},
   "outputs": [
    {
     "name": "stdout",
     "output_type": "stream",
     "text": [
      "['12345', '899', '99', '2023', '09', '15', '12346', '199', '23', '2023', '09', '16', '12347', '699', '99', '2023', '09', '17', '12348', '299', '99', '2023', '09', '18', '12349', '49', '99', '2023', '09', '19', '12350', '29', '99', '2023', '09', '20', '12351', '499', '49', '2023', '09', '21', '12352', '999', '99', '2023', '09', '22', '12353', '549', '29', '2023', '09', '23', '12354', '249', '57', '2023', '09', '24']\n"
     ]
    }
   ],
   "source": [
    "import re \n",
    "\n",
    "\n",
    "def main():\n",
    "    \n",
    "    # Read the CSV file with the product orders\n",
    "    with open(r'C:\\Users\\Robin\\Documents\\TH-Köln\\Semester_3\\DIS08_DatenmodellierungData_Modelling\\lokalGithub\\individual-assignments-Robink10\\labs\\04\\orders.csv') as f_in:\n",
    "        text = f_in.read()\n",
    "\n",
    "    # Define the regular expression to extract all order numbers\n",
    "    regex = r'\\d+'\n",
    "\n",
    "    # Match the regex with the text\n",
    "    orders = re.findall(regex, text)\n",
    "\n",
    "    # Print the results\n",
    "    print(orders)\n",
    "    \n",
    "\n",
    "if __name__ == '__main__':\n",
    "    main()\n"
   ]
  },
  {
   "cell_type": "code",
   "execution_count": 16,
   "metadata": {},
   "outputs": [
    {
     "name": "stdout",
     "output_type": "stream",
     "text": [
      "Bestellnummern: ['12345', '899', '99', '2023', '09', '15', '12346', '199', '23', '2023', '09', '16', '12347', '699', '99', '2023', '09', '17', '12348', '299', '99', '2023', '09', '18', '12349', '49', '99', '2023', '09', '19', '12350', '29', '99', '2023', '09', '20', '12351', '499', '49', '2023', '09', '21', '12352', '999', '99', '2023', '09', '22', '12353', '549', '29', '2023', '09', '23', '12354', '249', '57', '2023', '09', '24']\n",
      "Produktnamen: ['Order ', ' Product', ' Laptop', ' Price', ' ', ' Date', ' ', '\\nOrder ', ' Product', ' Headphones', ' Price', ' ', ' Date', ' ', '\\nOrder ', ' Product', ' Smartphone', ' Price', ' ', ' Date', ' ', '\\nOrder ', ' Product', ' Monitor', ' Price', ' ', ' Date', ' ', '\\nOrder ', ' Product', ' Keyboard', ' Price', ' ', ' Date', ' ', '\\nOrder ', ' Product', ' Mouse', ' Price', ' ', ' Date', ' ', '\\nOrder ', ' Product', ' Tablet', ' Price', ' ', ' Date', ' ', '\\nOrder ', ' Product', ' Laptop', ' Price', ' ', ' Date', ' ', '\\nOrder ', ' Product', ' Camera', ' Price', ' ', ' Date', ' ', '\\nOrder ', ' Product', ' Headphones', ' Price', ' ', ' Date', ' ']\n",
      "Preise: ['$899.99', '$199.23', '$699.99', '$299.99', '$49.99', '$29.99', '$499.49', '$999.99', '$549.29', '$249.57']\n",
      "Bestelldaten: []\n",
      "Bestellungen über $500: ['$899.99', '$699.99', '$999.99', '$549.29']\n",
      "Geändertes Datum: Order #12345: Product: Laptop, Price: $899.99, Date: 15/09/2023\n",
      "Order #12346: Product: Headphones, Price: $199.23, Date: 16/09/2023\n",
      "Order #12347: Product: Smartphone, Price: $699.99, Date: 17/09/2023\n",
      "Order #12348: Product: Monitor, Price: $299.99, Date: 18/09/2023\n",
      "Order #12349: Product: Keyboard, Price: $49.99, Date: 19/09/2023\n",
      "Order #12350: Product: Mouse, Price: $29.99, Date: 20/09/2023\n",
      "Order #12351: Product: Tablet, Price: $499.49, Date: 21/09/2023\n",
      "Order #12352: Product: Laptop, Price: $999.99, Date: 22/09/2023\n",
      "Order #12353: Product: Camera, Price: $549.29, Date: 23/09/2023\n",
      "Order #12354: Product: Headphones, Price: $249.57, Date: 24/09/2023\n",
      "Produkte mit mehr als 6 Zeichen: [' Product', ' Laptop', '\\nOrder ', ' Product', ' Headphones', '\\nOrder ', ' Product', ' Smartphone', '\\nOrder ', ' Product', ' Monitor', '\\nOrder ', ' Product', ' Keyboard', '\\nOrder ', ' Product', '\\nOrder ', ' Product', ' Tablet', '\\nOrder ', ' Product', ' Laptop', '\\nOrder ', ' Product', ' Camera', '\\nOrder ', ' Product', ' Headphones']\n",
      "Produktvorkommen: Counter({' ': 20, ' Product': 10, ' Price': 10, ' Date': 10, '\\nOrder ': 9, ' Laptop': 2, ' Headphones': 2, 'Order ': 1, ' Smartphone': 1, ' Monitor': 1, ' Keyboard': 1, ' Mouse': 1, ' Tablet': 1, ' Camera': 1})\n",
      "Bestellungen mit Preisen, die auf .99 enden: ['$899.99', '$699.99', '$299.99', '$49.99', '$29.99', '$999.99']\n",
      "Günstigstes Produkt: 29.99\n"
     ]
    }
   ],
   "source": [
    "import re\n",
    "from collections import Counter\n",
    "\n",
    "def extract_order_numbers(text):\n",
    "    regex = r'\\d+'\n",
    "    return re.findall(regex, text)\n",
    "\n",
    "def extract_product_names(text):\n",
    "    regex = r'[A-Za-z\\s]+'\n",
    "    return re.findall(regex, text)\n",
    "\n",
    "def extract_prices(text):\n",
    "    regex = r'\\$\\d+\\.\\d{2}'\n",
    "    return re.findall(regex, text)\n",
    "\n",
    "def extract_order_dates(text):\n",
    "    regex = r'\\d{2}/\\d{2}/\\d{4}'\n",
    "    return re.findall(regex, text)\n",
    "\n",
    "def find_expensive_orders(text):\n",
    "    prices = extract_prices(text)\n",
    "    return [price for price in prices if float(price[1:]) > 500]\n",
    "\n",
    "def change_date_format(text):\n",
    "    return re.sub(r'(\\d{4})-(\\d{2})-(\\d{2})', r'\\3/\\2/\\1', text)\n",
    "\n",
    "def extract_long_product_names(text):\n",
    "    product_names = extract_product_names(text)\n",
    "    return [name for name in product_names if len(name) > 6]\n",
    "\n",
    "def count_product_occurrences(text):\n",
    "    product_names = extract_product_names(text)\n",
    "    return Counter(product_names)\n",
    "\n",
    "def find_orders_with_99(text):\n",
    "    regex = r'\\$\\d+\\.99'\n",
    "    return re.findall(regex, text)\n",
    "\n",
    "def find_cheapest_product(text):\n",
    "    prices = extract_prices(text)\n",
    "    prices_float = [float(price[1:]) for price in prices]\n",
    "    return min(prices_float)\n",
    "\n",
    "def main():\n",
    "    with open(r'C:\\Users\\Robin\\Documents\\TH-Köln\\Semester_3\\DIS08_DatenmodellierungData_Modelling\\lokalGithub\\individual-assignments-Robink10\\labs\\04\\orders.csv') as f_in:\n",
    "        text = f_in.read()\n",
    "\n",
    "    print(\"Bestellnummern:\", extract_order_numbers(text))\n",
    "    print(\"Produktnamen:\", extract_product_names(text))\n",
    "    print(\"Preise:\", extract_prices(text))\n",
    "    print(\"Bestelldaten:\", extract_order_dates(text))\n",
    "    print(\"Bestellungen über $500:\", find_expensive_orders(text))\n",
    "    print(\"Geändertes Datum:\", change_date_format(text))\n",
    "    print(\"Produkte mit mehr als 6 Zeichen:\", extract_long_product_names(text))\n",
    "    print(\"Produktvorkommen:\", count_product_occurrences(text))\n",
    "    print(\"Bestellungen mit Preisen, die auf .99 enden:\", find_orders_with_99(text))\n",
    "    print(\"Günstigstes Produkt:\", find_cheapest_product(text))\n",
    "\n",
    "if __name__ == '__main__':\n",
    "    main()\n"
   ]
  }
 ],
 "metadata": {
  "kernelspec": {
   "display_name": "base",
   "language": "python",
   "name": "python3"
  },
  "language_info": {
   "codemirror_mode": {
    "name": "ipython",
    "version": 3
   },
   "file_extension": ".py",
   "mimetype": "text/x-python",
   "name": "python",
   "nbconvert_exporter": "python",
   "pygments_lexer": "ipython3",
   "version": "3.11.7"
  }
 },
 "nbformat": 4,
 "nbformat_minor": 2
}
